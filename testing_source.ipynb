{
 "cells": [
  {
   "cell_type": "code",
   "execution_count": 16,
   "id": "301c6897",
   "metadata": {},
   "outputs": [
    {
     "name": "stdout",
     "output_type": "stream",
     "text": [
      "The autoreload extension is already loaded. To reload it, use:\n",
      "  %reload_ext autoreload\n"
     ]
    }
   ],
   "source": [
    "import sys \n",
    "import mlflow\n",
    "import os \n",
    "import hydra\n",
    "import pandas as pd\n",
    "from omegaconf import OmegaConf, DictConfig, open_dict\n",
    "import numpy as np\n",
    "import torch\n",
    "from pathlib import Path\n",
    "from source.models import MLP, GraphTransformer\n",
    "from source.factories import  dataset_factory, model_factory\n",
    "from source.factories import optimizers_factory, logger_factory, lr_schedulers_factory\n",
    "from source.training import SupervisedTrainer\n",
    "from datetime import datetime\n",
    "from source.utils import set_seed\n",
    "\n",
    "%load_ext autoreload\n",
    "%autoreload 2\n"
   ]
  },
  {
   "cell_type": "code",
   "execution_count": 35,
   "id": "b343a6cc",
   "metadata": {},
   "outputs": [
    {
     "name": "stderr",
     "output_type": "stream",
     "text": [
      "/Users/irinaknyazeva/Yandex.Disk.localized/Projects/BrainIHBProjects/LabNeuroimagingProjects/DLfMRI/DLBenchmarking/.venv/lib/python3.11/site-packages/hydra/_internal/defaults_list.py:251: UserWarning: In 'config_graph_transformer': Defaults list is missing `_self_`. See https://hydra.cc/docs/1.2/upgrades/1.0_to_1.1/default_composition_order for more information\n",
      "  warnings.warn(msg, UserWarning)\n"
     ]
    }
   ],
   "source": [
    "with hydra.initialize(config_path=\"source/conf\", version_base=None):  # version_base ensures compatibility; adjust if needed\n",
    "    # Compose the config, specifying config_name here\n",
    "    cfg: DictConfig = hydra.compose(config_name=\"config_graph_transformer\") "
   ]
  },
  {
   "cell_type": "code",
   "execution_count": 36,
   "id": "f695c379",
   "metadata": {},
   "outputs": [
    {
     "data": {
      "text/plain": [
       "{'name': 'abide', 'batch_size': 40, 'test_batch_size': 20, 'val_batch_size': 20, 'train_set': 0.7, 'val_set': 0.1, 'path': '/Users/irinaknyazeva/Yandex.Disk.localized/Projects/BrainIHBProjects/LabNeuroimagingProjects/DLfMRI/datasets/abide.npy', 'stratified': True, 'node_sz': 200, 'node_feature_sz': 200, 'drop_last': True}"
      ]
     },
     "execution_count": 36,
     "metadata": {},
     "output_type": "execute_result"
    }
   ],
   "source": [
    "cfg.dataset"
   ]
  },
  {
   "cell_type": "code",
   "execution_count": 37,
   "id": "29fdf3cc",
   "metadata": {},
   "outputs": [],
   "source": [
    "batch_size = 16\n",
    "# Generate random input data\n",
    "node_feature = torch.randn(batch_size, 200, 200)  # (batch_size, 200, 200)"
   ]
  },
  {
   "cell_type": "code",
   "execution_count": 38,
   "id": "f6965ccc",
   "metadata": {},
   "outputs": [
    {
     "data": {
      "text/plain": [
       "GraphTransformer(\n",
       "  (attention_list): ModuleList(\n",
       "    (0-1): 2 x TransformerEncoderLayer(\n",
       "      (self_attn): MultiheadAttention(\n",
       "        (out_proj): NonDynamicallyQuantizableLinear(in_features=20, out_features=20, bias=True)\n",
       "      )\n",
       "      (linear1): Linear(in_features=20, out_features=128, bias=True)\n",
       "      (dropout): Dropout(p=0.1, inplace=False)\n",
       "      (linear2): Linear(in_features=128, out_features=20, bias=True)\n",
       "      (norm1): LayerNorm((20,), eps=1e-05, elementwise_affine=True)\n",
       "      (norm2): LayerNorm((20,), eps=1e-05, elementwise_affine=True)\n",
       "      (dropout1): Dropout(p=0.1, inplace=False)\n",
       "      (dropout2): Dropout(p=0.1, inplace=False)\n",
       "    )\n",
       "  )\n",
       "  (input_projection): Linear(in_features=200, out_features=20, bias=True)\n",
       "  (dim_reduction): Sequential(\n",
       "    (0): Linear(in_features=20, out_features=8, bias=True)\n",
       "    (1): LeakyReLU(negative_slope=0.01)\n",
       "  )\n",
       "  (fc): Sequential(\n",
       "    (0): Linear(in_features=1600, out_features=128, bias=True)\n",
       "    (1): LeakyReLU(negative_slope=0.01)\n",
       "    (2): Linear(in_features=128, out_features=16, bias=True)\n",
       "    (3): LeakyReLU(negative_slope=0.01)\n",
       "    (4): Linear(in_features=16, out_features=2, bias=True)\n",
       "  )\n",
       ")"
      ]
     },
     "execution_count": 38,
     "metadata": {},
     "output_type": "execute_result"
    }
   ],
   "source": [
    "model = GraphTransformer(cfg)\n",
    "model.eval()  # Set to evaluation mode\n"
   ]
  },
  {
   "cell_type": "code",
   "execution_count": 45,
   "id": "ba282fc7",
   "metadata": {},
   "outputs": [],
   "source": [
    "att_res = model.input_projection(node_feature)"
   ]
  },
  {
   "cell_type": "code",
   "execution_count": 40,
   "id": "29bed546",
   "metadata": {},
   "outputs": [
    {
     "data": {
      "text/plain": [
       "TransformerEncoderLayer(\n",
       "  (self_attn): MultiheadAttention(\n",
       "    (out_proj): NonDynamicallyQuantizableLinear(in_features=20, out_features=20, bias=True)\n",
       "  )\n",
       "  (linear1): Linear(in_features=20, out_features=128, bias=True)\n",
       "  (dropout): Dropout(p=0.1, inplace=False)\n",
       "  (linear2): Linear(in_features=128, out_features=20, bias=True)\n",
       "  (norm1): LayerNorm((20,), eps=1e-05, elementwise_affine=True)\n",
       "  (norm2): LayerNorm((20,), eps=1e-05, elementwise_affine=True)\n",
       "  (dropout1): Dropout(p=0.1, inplace=False)\n",
       "  (dropout2): Dropout(p=0.1, inplace=False)\n",
       ")"
      ]
     },
     "execution_count": 40,
     "metadata": {},
     "output_type": "execute_result"
    }
   ],
   "source": [
    "model.attention_list[0]"
   ]
  },
  {
   "cell_type": "code",
   "execution_count": null,
   "id": "975fa036",
   "metadata": {},
   "outputs": [
    {
     "data": {
      "text/plain": [
       "torch.Size([16, 200, 8])"
      ]
     },
     "execution_count": 47,
     "metadata": {},
     "output_type": "execute_result"
    }
   ],
   "source": [
    "model.dim_reduction(att_res)"
   ]
  },
  {
   "cell_type": "code",
   "execution_count": 49,
   "id": "ee09d631",
   "metadata": {},
   "outputs": [
    {
     "data": {
      "text/plain": [
       "BatchNorm1d(10, eps=1e-05, momentum=0.1, affine=True, track_running_stats=True)"
      ]
     },
     "execution_count": 49,
     "metadata": {},
     "output_type": "execute_result"
    }
   ],
   "source": [
    "torch.nn.BatchNorm1d(10)"
   ]
  },
  {
   "cell_type": "code",
   "execution_count": 42,
   "id": "6af9db8e",
   "metadata": {},
   "outputs": [
    {
     "data": {
      "text/plain": [
       "torch.Size([16, 2])"
      ]
     },
     "execution_count": 42,
     "metadata": {},
     "output_type": "execute_result"
    }
   ],
   "source": [
    "model(node_feature).shape"
   ]
  },
  {
   "cell_type": "code",
   "execution_count": 5,
   "id": "45f3e98b",
   "metadata": {},
   "outputs": [
    {
     "data": {
      "text/plain": [
       "(tensor([0, 1, 1, 1]),\n",
       " tensor([[-0.0604,  0.0552],\n",
       "         [-0.4039, -0.6505]]))"
      ]
     },
     "execution_count": 5,
     "metadata": {},
     "output_type": "execute_result"
    }
   ],
   "source": [
    "#set_seed(cfg.seed)\n",
    "dataloaders = dataset_factory(cfg)\n",
    "batch = next(iter(dataloaders['train']))\n",
    "batch[2][:4], batch[0][0,:2,:2]"
   ]
  },
  {
   "cell_type": "code",
   "execution_count": null,
   "id": "a757e61e",
   "metadata": {},
   "outputs": [],
   "source": []
  },
  {
   "cell_type": "code",
   "execution_count": 27,
   "id": "2a4caa70",
   "metadata": {},
   "outputs": [
    {
     "data": {
      "text/plain": [
       "(tensor([1, 0, 1, 1]),\n",
       " tensor([[0.9210, 0.6161],\n",
       "         [1.2456, 1.4961]]))"
      ]
     },
     "execution_count": 27,
     "metadata": {},
     "output_type": "execute_result"
    }
   ],
   "source": []
  },
  {
   "cell_type": "code",
   "execution_count": 24,
   "id": "a394cb5b",
   "metadata": {},
   "outputs": [
    {
     "data": {
      "text/plain": [
       "tensor([1, 1, 1, 1, 0, 1, 1, 0, 1, 1, 0, 1, 1, 1, 1, 1, 0, 0, 0, 1, 0, 1, 1, 1,\n",
       "        0, 0, 1, 0, 1, 1, 1, 1, 1, 0, 1, 1, 0, 0, 1, 1])"
      ]
     },
     "execution_count": 24,
     "metadata": {},
     "output_type": "execute_result"
    }
   ],
   "source": []
  },
  {
   "cell_type": "code",
   "execution_count": 5,
   "id": "8f12c0b6",
   "metadata": {},
   "outputs": [
    {
     "data": {
      "text/plain": [
       "'MLPexperiment'"
      ]
     },
     "execution_count": 5,
     "metadata": {},
     "output_type": "execute_result"
    }
   ],
   "source": [
    "res_ = cfg.get(\"experiment_name\", None)\n",
    "res_"
   ]
  },
  {
   "cell_type": "code",
   "execution_count": 10,
   "id": "6f14bb0e",
   "metadata": {},
   "outputs": [
    {
     "data": {
      "text/plain": [
       "'941851421475770388'"
      ]
     },
     "execution_count": 10,
     "metadata": {},
     "output_type": "execute_result"
    }
   ],
   "source": [
    "exp = mlflow.get_experiment_by_name(\"MLPexperiment\")\n",
    "exp._experiment_id"
   ]
  },
  {
   "cell_type": "code",
   "execution_count": 11,
   "id": "4187c325",
   "metadata": {},
   "outputs": [
    {
     "name": "stdout",
     "output_type": "stream",
     "text": [
      "Experiment with ID 941851421475770388 has been deleted.\n"
     ]
    }
   ],
   "source": [
    "!mlflow experiments delete -x 941851421475770388"
   ]
  },
  {
   "cell_type": "markdown",
   "id": "34f62a01",
   "metadata": {},
   "source": [
    "## Testing logger, dataloader, model, optimizers"
   ]
  },
  {
   "cell_type": "code",
   "execution_count": 31,
   "id": "7f4aaca8",
   "metadata": {},
   "outputs": [],
   "source": [
    "logger = logger_factory(cfg)"
   ]
  },
  {
   "cell_type": "code",
   "execution_count": 40,
   "id": "92f3fe32",
   "metadata": {},
   "outputs": [
    {
     "name": "stderr",
     "output_type": "stream",
     "text": [
      "[2025-08-10 18:57:07,838][<string>][L24][INFO] Using stratified dataloader for 'abide' dataset.\n"
     ]
    }
   ],
   "source": [
    "dataloaders = dataset_factory(cfg)"
   ]
  },
  {
   "cell_type": "code",
   "execution_count": 33,
   "id": "4b717962",
   "metadata": {},
   "outputs": [
    {
     "data": {
      "text/plain": [
       "[<torch.utils.data.dataloader.DataLoader at 0x161cec110>,\n",
       " <torch.utils.data.dataloader.DataLoader at 0x161f65310>,\n",
       " <torch.utils.data.dataloader.DataLoader at 0x15d328d90>]"
      ]
     },
     "execution_count": 33,
     "metadata": {},
     "output_type": "execute_result"
    }
   ],
   "source": [
    "dataloaders"
   ]
  },
  {
   "cell_type": "code",
   "execution_count": 22,
   "id": "15035961",
   "metadata": {},
   "outputs": [
    {
     "name": "stderr",
     "output_type": "stream",
     "text": [
      "[2025-08-09 09:42:50,859][<string>][L22][INFO] Will be used model class[MLP]\n"
     ]
    }
   ],
   "source": [
    "model = model_factory(cfg)"
   ]
  },
  {
   "cell_type": "code",
   "execution_count": 23,
   "id": "f093c437",
   "metadata": {},
   "outputs": [
    {
     "data": {
      "text/plain": [
       "MLP(\n",
       "  (network): Sequential(\n",
       "    (0): Linear(in_features=19900, out_features=25, bias=True)\n",
       "    (1): LeakyReLU(negative_slope=0.01)\n",
       "    (2): Dropout(p=0.1, inplace=False)\n",
       "    (3): Linear(in_features=25, out_features=12, bias=True)\n",
       "    (4): LeakyReLU(negative_slope=0.01)\n",
       "    (5): Dropout(p=0.1, inplace=False)\n",
       "  )\n",
       "  (fc): Linear(in_features=12, out_features=2, bias=True)\n",
       ")"
      ]
     },
     "execution_count": 23,
     "metadata": {},
     "output_type": "execute_result"
    }
   ],
   "source": [
    "model"
   ]
  },
  {
   "cell_type": "code",
   "execution_count": 25,
   "id": "60d01280",
   "metadata": {},
   "outputs": [
    {
     "name": "stderr",
     "output_type": "stream",
     "text": [
      "[2025-08-09 09:44:23,397][<string>][L11][INFO] Creating 1 optimizer(s) based on the configuration.\n",
      "[2025-08-09 09:44:23,399][factories.py][L85][INFO] Parameters [normal] length [6]\n"
     ]
    }
   ],
   "source": [
    "optimizers = optimizers_factory(cfg, model=model)"
   ]
  },
  {
   "cell_type": "code",
   "execution_count": 28,
   "id": "14923280",
   "metadata": {},
   "outputs": [
    {
     "name": "stderr",
     "output_type": "stream",
     "text": [
      "[2025-08-09 09:45:51,002][<string>][L15][INFO] Creating schedulers for 1 optimizer(s)...\n"
     ]
    }
   ],
   "source": [
    "\n",
    "lr_schedulers = lr_schedulers_factory(cfg=cfg)"
   ]
  },
  {
   "cell_type": "code",
   "execution_count": 41,
   "id": "a3f05941",
   "metadata": {},
   "outputs": [
    {
     "data": {
      "text/plain": [
       "[<torch.utils.data.dataloader.DataLoader at 0x16493ddd0>,\n",
       " <torch.utils.data.dataloader.DataLoader at 0x1648a6b10>,\n",
       " <torch.utils.data.dataloader.DataLoader at 0x16493dcd0>]"
      ]
     },
     "execution_count": 41,
     "metadata": {},
     "output_type": "execute_result"
    }
   ],
   "source": [
    "dataloaders"
   ]
  },
  {
   "cell_type": "code",
   "execution_count": 5,
   "id": "331e2364",
   "metadata": {},
   "outputs": [],
   "source": [
    "with open_dict(cfg):\n",
    "    cfg.dataset.node_sz = 200 \n",
    "    "
   ]
  },
  {
   "cell_type": "code",
   "execution_count": 47,
   "id": "93dbda23",
   "metadata": {},
   "outputs": [],
   "source": [
    "from source.training import SupervisedTrainer"
   ]
  },
  {
   "cell_type": "code",
   "execution_count": 42,
   "id": "c2c8a7b9",
   "metadata": {},
   "outputs": [],
   "source": [
    "batch = next(iter(dataloaders[0]))"
   ]
  },
  {
   "cell_type": "code",
   "execution_count": 48,
   "id": "0842904d",
   "metadata": {},
   "outputs": [],
   "source": [
    "trainer = SupervisedTrainer(cfg, model, optimizers, lr_schedulers, dataloaders,logger)"
   ]
  },
  {
   "cell_type": "code",
   "execution_count": 58,
   "id": "e9f82e42",
   "metadata": {},
   "outputs": [
    {
     "name": "stderr",
     "output_type": "stream",
     "text": [
      "[2025-08-11 16:32:02,361][<string>][L12][WARNING] Could not find 'source.prepossess.py'. Skipping preprocessing.\n"
     ]
    },
    {
     "data": {
      "text/plain": [
       "{'time_series': tensor([[[-1.3022e-01, -3.4999e-01, -5.8835e-01,  ...,  2.0667e-01,\n",
       "            2.5229e-01,  1.9874e-01],\n",
       "          [ 1.2365e-01, -5.4046e-02, -1.8125e-01,  ...,  2.1649e-01,\n",
       "            3.0064e-01,  6.9263e-01],\n",
       "          [-4.4977e-01, -4.6650e-01, -2.7012e-01,  ...,  7.0560e-02,\n",
       "           -5.2195e-01, -9.5217e-01],\n",
       "          ...,\n",
       "          [ 9.2356e-04,  9.2356e-04,  9.2356e-04,  ...,  9.2356e-04,\n",
       "            9.2356e-04,  9.2356e-04],\n",
       "          [-1.1930e+00, -1.5629e+00, -1.4659e+00,  ...,  1.3430e+00,\n",
       "            6.0792e-01,  9.0091e-02],\n",
       "          [-3.4078e-01, -4.5209e-01, -5.1648e-01,  ..., -3.0792e-01,\n",
       "           -2.1767e-01,  5.2791e-02]],\n",
       " \n",
       "         [[-5.6952e-01, -9.6260e-01, -9.3498e-01,  ..., -5.3651e-01,\n",
       "           -8.6565e-02,  5.2540e-01],\n",
       "          [ 4.0425e-01,  5.1663e-01,  6.5948e-01,  ..., -9.1529e-01,\n",
       "           -1.0688e+00, -1.0083e+00],\n",
       "          [-5.3576e-01, -1.3074e-01,  6.0215e-01,  ...,  1.3889e-01,\n",
       "            6.3007e-01,  5.7869e-01],\n",
       "          ...,\n",
       "          [-8.7993e-02,  1.6162e-02,  2.1644e-01,  ..., -5.7909e-03,\n",
       "            2.7838e-01,  5.7058e-01],\n",
       "          [ 9.5076e-02,  4.6231e-01,  8.2914e-01,  ..., -3.9494e-01,\n",
       "           -1.9563e-01, -6.4563e-02],\n",
       "          [-5.7798e-01, -9.0994e-01, -1.0051e+00,  ...,  7.9907e-01,\n",
       "            9.1175e-01,  3.7970e-01]],\n",
       " \n",
       "         [[ 7.7090e-01,  2.6994e-01, -5.2803e-01,  ..., -5.4004e-01,\n",
       "           -1.6995e-01, -2.7640e-01],\n",
       "          [ 8.2192e-01, -2.1364e-01, -1.4611e+00,  ...,  5.8262e-01,\n",
       "            4.6800e-01,  1.5061e-01],\n",
       "          [-2.9622e-01, -6.6334e-01, -7.2551e-01,  ..., -1.2111e+00,\n",
       "           -1.0439e+00, -1.2015e+00],\n",
       "          ...,\n",
       "          [-6.0163e-01, -4.1090e-01, -3.2496e-01,  ...,  2.7200e-01,\n",
       "            5.1588e-01, -9.1401e-02],\n",
       "          [-1.5322e+00, -1.0825e+00, -4.0874e-01,  ...,  4.2320e-01,\n",
       "            2.8538e-01, -3.3592e-01],\n",
       "          [-6.4727e-01, -7.9583e-01, -5.7026e-01,  ..., -7.0937e-02,\n",
       "            4.8267e-01,  7.6118e-01]],\n",
       " \n",
       "         ...,\n",
       " \n",
       "         [[-1.6103e-01, -1.0229e-03,  3.7500e-02,  ...,  1.5440e+00,\n",
       "            1.0610e+00,  3.0477e-01],\n",
       "          [ 7.0786e-02,  2.0116e-01,  4.6331e-01,  ...,  1.3103e+00,\n",
       "            1.7607e+00,  1.7795e+00],\n",
       "          [ 8.8583e-01,  9.0236e-01,  3.1211e-01,  ...,  2.9533e+00,\n",
       "            2.7886e+00,  2.1497e+00],\n",
       "          ...,\n",
       "          [ 8.6020e-02,  2.4467e-01,  2.1296e-01,  ...,  4.7069e-01,\n",
       "            3.8227e-01,  2.5315e-01],\n",
       "          [-3.4708e-01, -3.4338e-01, -6.0469e-01,  ...,  3.6361e+00,\n",
       "            3.3977e+00,  2.6568e+00],\n",
       "          [ 4.4412e-01,  1.0404e+00,  1.2511e+00,  ...,  1.7240e+00,\n",
       "            2.7950e+00,  2.9158e+00]],\n",
       " \n",
       "         [[-2.8179e-01, -6.1867e-01, -8.8523e-01,  ...,  5.6615e-01,\n",
       "            4.8276e-01,  3.7156e-01],\n",
       "          [ 8.9810e-03, -9.1321e-02, -3.4510e-01,  ..., -4.9934e-01,\n",
       "           -4.5276e-01, -6.1959e-01],\n",
       "          [ 3.1755e-01,  4.9793e-01,  5.6330e-01,  ..., -2.5354e-01,\n",
       "            1.4306e+00,  3.1253e+00],\n",
       "          ...,\n",
       "          [-2.5097e-01, -2.8101e-01, -6.6663e-01,  ...,  1.3461e-01,\n",
       "           -1.7829e-01, -3.7904e-01],\n",
       "          [ 6.0244e-01,  4.3578e-01, -1.4143e-01,  ..., -5.6159e-01,\n",
       "           -3.2950e-01,  2.2208e-01],\n",
       "          [ 1.3591e+00,  1.0341e+00,  1.9980e-01,  ...,  1.1621e+00,\n",
       "            1.6868e+00,  1.3745e+00]],\n",
       " \n",
       "         [[-3.0180e-01,  1.7449e-01,  7.0864e-01,  ...,  2.7743e-01,\n",
       "           -1.1214e-01, -1.9018e-01],\n",
       "          [-2.6195e-01,  9.5496e-02,  1.9203e-01,  ..., -4.7597e-01,\n",
       "           -3.7648e-01, -1.0750e-01],\n",
       "          [-4.0682e-02,  1.5247e-01, -1.3228e-01,  ..., -6.5969e-01,\n",
       "            1.5743e-01,  1.0209e+00],\n",
       "          ...,\n",
       "          [ 3.6677e-01,  6.4371e-01,  5.5137e-01,  ..., -2.2375e-01,\n",
       "            7.2716e-01,  1.0590e+00],\n",
       "          [ 5.5207e-01,  6.5175e-01,  8.7928e-01,  ...,  4.6362e-01,\n",
       "            8.2332e-01,  1.5319e+00],\n",
       "          [ 3.0493e-01,  4.9316e-01,  3.4708e-01,  ...,  1.0825e+00,\n",
       "            1.0639e+00,  1.3752e-01]]]),\n",
       " 'node_feature': tensor([[[ 0.0000,  0.7499,  0.7652,  ...,  0.0000,  0.7249,  1.0327],\n",
       "          [ 0.7499,  0.0000,  0.6976,  ...,  0.0000,  0.4619,  0.7388],\n",
       "          [ 0.7652,  0.6976,  0.0000,  ...,  0.0000,  0.6618,  0.7726],\n",
       "          ...,\n",
       "          [ 0.0000,  0.0000,  0.0000,  ...,  0.0000,  0.0000,  0.0000],\n",
       "          [ 0.7249,  0.4619,  0.6618,  ...,  0.0000,  0.0000,  0.6989],\n",
       "          [ 1.0327,  0.7388,  0.7726,  ...,  0.0000,  0.6989,  0.0000]],\n",
       " \n",
       "         [[ 0.0000,  0.3758,  0.3005,  ...,  0.4459,  0.4331,  0.0695],\n",
       "          [ 0.3758,  0.0000,  0.7353,  ...,  0.3640,  0.4158,  0.4052],\n",
       "          [ 0.3005,  0.7353,  0.0000,  ...,  0.4643,  0.8465,  0.7446],\n",
       "          ...,\n",
       "          [ 0.4459,  0.3640,  0.4643,  ...,  0.0000,  0.3907,  0.2967],\n",
       "          [ 0.4331,  0.4158,  0.8465,  ...,  0.3907,  0.0000,  0.3965],\n",
       "          [ 0.0695,  0.4052,  0.7446,  ...,  0.2967,  0.3965,  0.0000]],\n",
       " \n",
       "         [[ 0.0000,  0.7492,  0.7848,  ...,  0.5166,  0.5265,  0.4585],\n",
       "          [ 0.7492,  0.0000,  0.6729,  ...,  0.4218,  0.3671,  0.6163],\n",
       "          [ 0.7848,  0.6729,  0.0000,  ...,  0.4580,  0.4068,  0.6929],\n",
       "          ...,\n",
       "          [ 0.5166,  0.4218,  0.4580,  ...,  0.0000,  0.6076,  0.3147],\n",
       "          [ 0.5265,  0.3671,  0.4068,  ...,  0.6076,  0.0000,  0.1493],\n",
       "          [ 0.4585,  0.6163,  0.6929,  ...,  0.3147,  0.1493,  0.0000]],\n",
       " \n",
       "         ...,\n",
       " \n",
       "         [[ 0.0000,  0.5853,  0.4480,  ...,  0.3999,  0.3950,  0.3199],\n",
       "          [ 0.5853,  0.0000,  0.5203,  ...,  0.3315,  0.4738,  0.6793],\n",
       "          [ 0.4480,  0.5203,  0.0000,  ...,  0.4084,  0.6733,  0.3857],\n",
       "          ...,\n",
       "          [ 0.3999,  0.3315,  0.4084,  ...,  0.0000,  0.4737,  0.3155],\n",
       "          [ 0.3950,  0.4738,  0.6733,  ...,  0.4737,  0.0000,  0.4402],\n",
       "          [ 0.3199,  0.6793,  0.3857,  ...,  0.3155,  0.4402,  0.0000]],\n",
       " \n",
       "         [[ 0.0000,  0.0691,  0.1934,  ...,  0.2524,  0.2631,  0.0811],\n",
       "          [ 0.0691,  0.0000,  0.2688,  ...,  0.2707,  0.1289, -0.0038],\n",
       "          [ 0.1934,  0.2688,  0.0000,  ...,  0.2390,  0.2014,  0.1423],\n",
       "          ...,\n",
       "          [ 0.2524,  0.2707,  0.2390,  ...,  0.0000,  0.6430,  0.2453],\n",
       "          [ 0.2631,  0.1289,  0.2014,  ...,  0.6430,  0.0000,  0.0563],\n",
       "          [ 0.0811, -0.0038,  0.1423,  ...,  0.2453,  0.0563,  0.0000]],\n",
       " \n",
       "         [[ 0.0000, -0.1852,  0.0737,  ...,  0.1213,  0.0028,  0.2277],\n",
       "          [-0.1852,  0.0000,  0.2138,  ...,  0.1229, -0.0589,  0.2424],\n",
       "          [ 0.0737,  0.2138,  0.0000,  ...,  0.1896,  0.0182,  0.3724],\n",
       "          ...,\n",
       "          [ 0.1213,  0.1229,  0.1896,  ...,  0.0000,  0.0570,  0.2565],\n",
       "          [ 0.0028, -0.0589,  0.0182,  ...,  0.0570,  0.0000, -0.1468],\n",
       "          [ 0.2277,  0.2424,  0.3724,  ...,  0.2565, -0.1468,  0.0000]]]),\n",
       " 'label': tensor([0, 1, 0, 0, 1, 1, 0, 1, 0, 0, 1, 0, 1, 1, 0, 1])}"
      ]
     },
     "execution_count": 58,
     "metadata": {},
     "output_type": "execute_result"
    }
   ],
   "source": [
    "trainer._preprocess_batch(batch)"
   ]
  },
  {
   "cell_type": "code",
   "execution_count": 7,
   "id": "4e4f7761",
   "metadata": {},
   "outputs": [],
   "source": [
    "batch_size = 4  # A typical small batch size for testing\n",
    "node_size = cfg.dataset.node_sz\n",
    "input_dim = int(node_size * (node_size - 1) / 2)\n",
    "random_corr_vector = torch.randn(batch_size, input_dim)"
   ]
  },
  {
   "cell_type": "code",
   "execution_count": 8,
   "id": "f9beb3c1",
   "metadata": {},
   "outputs": [
    {
     "data": {
      "text/plain": [
       "torch.Size([4, 19900])"
      ]
     },
     "execution_count": 8,
     "metadata": {},
     "output_type": "execute_result"
    }
   ],
   "source": [
    "random_corr_vector.shape"
   ]
  },
  {
   "cell_type": "code",
   "execution_count": 9,
   "id": "e97d3ade",
   "metadata": {},
   "outputs": [
    {
     "data": {
      "text/plain": [
       "MLP(\n",
       "  (network): Sequential(\n",
       "    (0): Linear(in_features=19900, out_features=25, bias=True)\n",
       "    (1): LeakyReLU(negative_slope=0.01)\n",
       "    (2): Dropout(p=0.1, inplace=False)\n",
       "    (3): Linear(in_features=25, out_features=12, bias=True)\n",
       "    (4): LeakyReLU(negative_slope=0.01)\n",
       "    (5): Dropout(p=0.1, inplace=False)\n",
       "  )\n",
       "  (fc): Linear(in_features=12, out_features=2, bias=True)\n",
       ")"
      ]
     },
     "execution_count": 9,
     "metadata": {},
     "output_type": "execute_result"
    }
   ],
   "source": [
    "mlp_model = MLP(cfg)\n",
    "mlp_model.eval()  # Set the model to evaluation mode"
   ]
  },
  {
   "cell_type": "code",
   "execution_count": 10,
   "id": "0fa4eea1",
   "metadata": {},
   "outputs": [
    {
     "name": "stdout",
     "output_type": "stream",
     "text": [
      "Performing forward pass...\n",
      "Received output with shape: torch.Size([4, 2])\n",
      "First output: tensor([-0.2939,  0.1327])\n"
     ]
    }
   ],
   "source": [
    "print(\"Performing forward pass...\")\n",
    "with torch.no_grad(): # We don't need to calculate gradients for this test\n",
    "    output = mlp_model(random_corr_vector)\n",
    "print(f\"Received output with shape: {output.shape}\")\n",
    "print(f\"First output: {output[0]}\")"
   ]
  },
  {
   "cell_type": "code",
   "execution_count": null,
   "id": "ebd9b999",
   "metadata": {},
   "outputs": [],
   "source": []
  },
  {
   "cell_type": "code",
   "execution_count": null,
   "id": "785473c2",
   "metadata": {},
   "outputs": [],
   "source": []
  }
 ],
 "metadata": {
  "kernelspec": {
   "display_name": ".venv",
   "language": "python",
   "name": "python3"
  },
  "language_info": {
   "codemirror_mode": {
    "name": "ipython",
    "version": 3
   },
   "file_extension": ".py",
   "mimetype": "text/x-python",
   "name": "python",
   "nbconvert_exporter": "python",
   "pygments_lexer": "ipython3",
   "version": "3.11.9"
  }
 },
 "nbformat": 4,
 "nbformat_minor": 5
}
