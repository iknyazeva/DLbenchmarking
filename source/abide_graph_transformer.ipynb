{
 "cells": [
  {
   "cell_type": "code",
   "execution_count": 21,
   "id": "114147e3",
   "metadata": {},
   "outputs": [],
   "source": [
    "import hydra\n",
    "from omegaconf import OmegaConf, DictConfig\n",
    "import numpy as np\n",
    "import torch\n",
    "from pathlib import Path\n",
    "from dataset.abide import load_abide_data\n",
    "from dataset import dataset_factory\n",
    "from components import logger_factory, lr_scheduler_factory\n",
    "from models import model_factory\n",
    "#from training import training_factory"
   ]
  },
  {
   "cell_type": "code",
   "execution_count": 5,
   "id": "6c542361",
   "metadata": {},
   "outputs": [
    {
     "name": "stdout",
     "output_type": "stream",
     "text": [
      "/Users/irinaknyazeva/Yandex.Disk.localized/Projects/BrainIHBProjects/LabNeuroimagingProjects/DLfMRI/datasets/abide.npy\n"
     ]
    }
   ],
   "source": [
    "absolute_path = Path('../../datasets/abide.npy').resolve()\n",
    "print(absolute_path)"
   ]
  },
  {
   "cell_type": "code",
   "execution_count": 6,
   "id": "999fd503",
   "metadata": {},
   "outputs": [
    {
     "name": "stderr",
     "output_type": "stream",
     "text": [
      "/Users/irinaknyazeva/Yandex.Disk.localized/Projects/BrainIHBProjects/LabNeuroimagingProjects/DLfMRI/BrainNetworkTransformer/venv/lib/python3.11/site-packages/hydra/_internal/defaults_list.py:251: UserWarning: In 'config': Defaults list is missing `_self_`. See https://hydra.cc/docs/1.2/upgrades/1.0_to_1.1/default_composition_order for more information\n",
      "  warnings.warn(msg, UserWarning)\n"
     ]
    }
   ],
   "source": [
    "with hydra.initialize(config_path=\"conf\", version_base=None):  # version_base ensures compatibility; adjust if needed\n",
    "    # Compose the config, specifying config_name here\n",
    "    cfg: DictConfig = hydra.compose(config_name=\"config\") "
   ]
  },
  {
   "cell_type": "code",
   "execution_count": 7,
   "id": "97ec3b4d",
   "metadata": {},
   "outputs": [],
   "source": [
    "final_timeseires, final_pearson, labels, site = load_abide_data(cfg)"
   ]
  },
  {
   "cell_type": "code",
   "execution_count": 11,
   "id": "6cb1b886",
   "metadata": {},
   "outputs": [
    {
     "data": {
      "text/plain": [
       "True"
      ]
     },
     "execution_count": 11,
     "metadata": {},
     "output_type": "execute_result"
    }
   ],
   "source": [
    "cfg.dataset.stratified "
   ]
  },
  {
   "cell_type": "code",
   "execution_count": 18,
   "id": "1f90dcfc",
   "metadata": {},
   "outputs": [],
   "source": [
    "dataloaders = dataset_factory(cfg)"
   ]
  },
  {
   "cell_type": "code",
   "execution_count": 19,
   "id": "dfa7f05e",
   "metadata": {},
   "outputs": [
    {
     "data": {
      "text/plain": [
       "[<torch.utils.data.dataloader.DataLoader at 0x13a3f05d0>,\n",
       " <torch.utils.data.dataloader.DataLoader at 0x13a3b5710>,\n",
       " <torch.utils.data.dataloader.DataLoader at 0x13a3f1310>]"
      ]
     },
     "execution_count": 19,
     "metadata": {},
     "output_type": "execute_result"
    }
   ],
   "source": [
    "dataloaders"
   ]
  },
  {
   "cell_type": "code",
   "execution_count": null,
   "id": "f0c231ff",
   "metadata": {},
   "outputs": [],
   "source": [
    "logger = logger_factory(cfg)"
   ]
  }
 ],
 "metadata": {
  "kernelspec": {
   "display_name": "venv",
   "language": "python",
   "name": "python3"
  },
  "language_info": {
   "codemirror_mode": {
    "name": "ipython",
    "version": 3
   },
   "file_extension": ".py",
   "mimetype": "text/x-python",
   "name": "python",
   "nbconvert_exporter": "python",
   "pygments_lexer": "ipython3",
   "version": "3.11.9"
  }
 },
 "nbformat": 4,
 "nbformat_minor": 5
}
