{
 "cells": [
  {
   "cell_type": "code",
   "execution_count": 1,
   "id": "10709ce9",
   "metadata": {},
   "outputs": [],
   "source": [
    "from sklearn import linear_model\n"
   ]
  },
  {
   "cell_type": "code",
   "execution_count": 1,
   "id": "16e32896",
   "metadata": {},
   "outputs": [],
   "source": [
    "import hydra\n",
    "from omegaconf import OmegaConf, DictConfig\n",
    "import numpy as np\n",
    "import torch\n",
    "from pathlib import Path\n",
    "from models import GraphTransformer\n",
    "from models import MLP\n",
    "\n"
   ]
  },
  {
   "cell_type": "code",
   "execution_count": 2,
   "id": "3c000369",
   "metadata": {},
   "outputs": [],
   "source": [
    "from factories import  dataset_factory"
   ]
  },
  {
   "cell_type": "code",
   "execution_count": 3,
   "id": "a02f6a0c",
   "metadata": {},
   "outputs": [
    {
     "name": "stderr",
     "output_type": "stream",
     "text": [
      "/Users/irinaknyazeva/Yandex.Disk.localized/Projects/BrainIHBProjects/LabNeuroimagingProjects/DLfMRI/BrainNetworkTransformer/venv/lib/python3.11/site-packages/hydra/_internal/defaults_list.py:251: UserWarning: In 'config_mlp': Defaults list is missing `_self_`. See https://hydra.cc/docs/1.2/upgrades/1.0_to_1.1/default_composition_order for more information\n",
      "  warnings.warn(msg, UserWarning)\n"
     ]
    }
   ],
   "source": [
    "with hydra.initialize(config_path=\"conf\", version_base=None):  # version_base ensures compatibility; adjust if needed\n",
    "    # Compose the config, specifying config_name here\n",
    "    cfg: DictConfig = hydra.compose(config_name=\"config_mlp\", overrides=[\"model=mlp\"]) "
   ]
  },
  {
   "cell_type": "code",
   "execution_count": 4,
   "id": "d20a1aca",
   "metadata": {},
   "outputs": [
    {
     "ename": "TypeError",
     "evalue": "expected np.ndarray (got numpy.ndarray)",
     "output_type": "error",
     "traceback": [
      "\u001b[31m---------------------------------------------------------------------------\u001b[39m",
      "\u001b[31mTypeError\u001b[39m                                 Traceback (most recent call last)",
      "\u001b[36mCell\u001b[39m\u001b[36m \u001b[39m\u001b[32mIn[4]\u001b[39m\u001b[32m, line 1\u001b[39m\n\u001b[32m----> \u001b[39m\u001b[32m1\u001b[39m dataloaders = \u001b[43mdataset_factory\u001b[49m\u001b[43m(\u001b[49m\u001b[43mcfg\u001b[49m\u001b[43m)\u001b[49m\n",
      "\u001b[36mFile \u001b[39m\u001b[32m~/Yandex.Disk.localized/Projects/BrainIHBProjects/LabNeuroimagingProjects/DLfMRI/BrainNetworkTransformer/source/factories.py:20\u001b[39m, in \u001b[36mdataset_factory\u001b[39m\u001b[34m(cfg)\u001b[39m\n\u001b[32m     17\u001b[39m \u001b[38;5;28;01massert\u001b[39;00m cfg.dataset.name \u001b[38;5;129;01min\u001b[39;00m [\u001b[33m'\u001b[39m\u001b[33mabide\u001b[39m\u001b[33m'\u001b[39m] \u001b[38;5;66;03m# Simplified for now\u001b[39;00m\n\u001b[32m     19\u001b[39m \u001b[38;5;66;03m# Dynamically call the data loading function, e.g., load_abide_data(cfg)\u001b[39;00m\n\u001b[32m---> \u001b[39m\u001b[32m20\u001b[39m datasets = \u001b[38;5;28;43meval\u001b[39;49m\u001b[43m(\u001b[49m\u001b[33;43mf\u001b[39;49m\u001b[33;43m\"\u001b[39;49m\u001b[33;43mload_\u001b[39;49m\u001b[38;5;132;43;01m{\u001b[39;49;00m\u001b[43mcfg\u001b[49m\u001b[43m.\u001b[49m\u001b[43mdataset\u001b[49m\u001b[43m.\u001b[49m\u001b[43mname\u001b[49m\u001b[38;5;132;43;01m}\u001b[39;49;00m\u001b[33;43m_data\u001b[39;49m\u001b[33;43m\"\u001b[39;49m\u001b[43m)\u001b[49m\u001b[43m(\u001b[49m\u001b[43mcfg\u001b[49m\u001b[43m)\u001b[49m\n\u001b[32m     22\u001b[39m \u001b[38;5;66;03m# For now, we assume stratified loading is always desired\u001b[39;00m\n\u001b[32m     23\u001b[39m dataloaders = init_stratified_dataloader(cfg, *datasets)\n",
      "\u001b[36mFile \u001b[39m\u001b[32m~/Yandex.Disk.localized/Projects/BrainIHBProjects/LabNeuroimagingProjects/DLfMRI/BrainNetworkTransformer/source/dataset/abide.py:20\u001b[39m, in \u001b[36mload_abide_data\u001b[39m\u001b[34m(cfg)\u001b[39m\n\u001b[32m     15\u001b[39m scaler = StandardScaler(mean=np.mean(\n\u001b[32m     16\u001b[39m     final_timeseires), std=np.std(final_timeseires))\n\u001b[32m     18\u001b[39m final_timeseires = scaler.transform(final_timeseires)\n\u001b[32m---> \u001b[39m\u001b[32m20\u001b[39m final_timeseires, final_pearson, labels = \u001b[43m[\u001b[49m\u001b[43mtorch\u001b[49m\u001b[43m.\u001b[49m\u001b[43mfrom_numpy\u001b[49m\u001b[43m(\u001b[49m\n\u001b[32m     21\u001b[39m \u001b[43m    \u001b[49m\u001b[43mdata\u001b[49m\u001b[43m)\u001b[49m\u001b[43m.\u001b[49m\u001b[43mfloat\u001b[49m\u001b[43m(\u001b[49m\u001b[43m)\u001b[49m\u001b[43m \u001b[49m\u001b[38;5;28;43;01mfor\u001b[39;49;00m\u001b[43m \u001b[49m\u001b[43mdata\u001b[49m\u001b[43m \u001b[49m\u001b[38;5;129;43;01min\u001b[39;49;00m\u001b[43m \u001b[49m\u001b[43m(\u001b[49m\u001b[43mfinal_timeseires\u001b[49m\u001b[43m,\u001b[49m\u001b[43m \u001b[49m\u001b[43mfinal_pearson\u001b[49m\u001b[43m,\u001b[49m\u001b[43m \u001b[49m\u001b[43mlabels\u001b[49m\u001b[43m)\u001b[49m\u001b[43m]\u001b[49m\n\u001b[32m     23\u001b[39m \u001b[38;5;28;01mwith\u001b[39;00m open_dict(cfg):\n\u001b[32m     25\u001b[39m     cfg.dataset.node_sz, cfg.dataset.node_feature_sz = final_pearson.shape[\u001b[32m1\u001b[39m:]\n",
      "\u001b[36mFile \u001b[39m\u001b[32m~/Yandex.Disk.localized/Projects/BrainIHBProjects/LabNeuroimagingProjects/DLfMRI/BrainNetworkTransformer/source/dataset/abide.py:20\u001b[39m, in \u001b[36m<listcomp>\u001b[39m\u001b[34m(.0)\u001b[39m\n\u001b[32m     15\u001b[39m scaler = StandardScaler(mean=np.mean(\n\u001b[32m     16\u001b[39m     final_timeseires), std=np.std(final_timeseires))\n\u001b[32m     18\u001b[39m final_timeseires = scaler.transform(final_timeseires)\n\u001b[32m---> \u001b[39m\u001b[32m20\u001b[39m final_timeseires, final_pearson, labels = [\u001b[43mtorch\u001b[49m\u001b[43m.\u001b[49m\u001b[43mfrom_numpy\u001b[49m\u001b[43m(\u001b[49m\n\u001b[32m     21\u001b[39m \u001b[43m    \u001b[49m\u001b[43mdata\u001b[49m\u001b[43m)\u001b[49m.float() \u001b[38;5;28;01mfor\u001b[39;00m data \u001b[38;5;129;01min\u001b[39;00m (final_timeseires, final_pearson, labels)]\n\u001b[32m     23\u001b[39m \u001b[38;5;28;01mwith\u001b[39;00m open_dict(cfg):\n\u001b[32m     25\u001b[39m     cfg.dataset.node_sz, cfg.dataset.node_feature_sz = final_pearson.shape[\u001b[32m1\u001b[39m:]\n",
      "\u001b[31mTypeError\u001b[39m: expected np.ndarray (got numpy.ndarray)"
     ]
    }
   ],
   "source": [
    "dataloaders = dataset_factory(cfg)"
   ]
  },
  {
   "cell_type": "code",
   "execution_count": null,
   "id": "0981a9b2",
   "metadata": {},
   "outputs": [],
   "source": []
  }
 ],
 "metadata": {
  "kernelspec": {
   "display_name": "venv",
   "language": "python",
   "name": "python3"
  },
  "language_info": {
   "codemirror_mode": {
    "name": "ipython",
    "version": 3
   },
   "file_extension": ".py",
   "mimetype": "text/x-python",
   "name": "python",
   "nbconvert_exporter": "python",
   "pygments_lexer": "ipython3",
   "version": "3.11.9"
  }
 },
 "nbformat": 4,
 "nbformat_minor": 5
}
